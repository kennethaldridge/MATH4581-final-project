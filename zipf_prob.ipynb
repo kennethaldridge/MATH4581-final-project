{
 "cells": [
  {
   "cell_type": "code",
   "execution_count": 1,
   "metadata": {},
   "outputs": [
    {
     "name": "stdout",
     "output_type": "stream",
     "text": [
      "The length of Harry Potter and the Sorcer's Stone: 77762\n",
      "The number of times the top 20 most common words are used: 21620\n",
      "Top 20 most common words in Harry Potter and the Sorcerer's Stone and the percent of time used:\n",
      "defaultdict(<function <lambda> at 0x0000019117C06020>, {'the': 0.16577243293246993, 'and': 0.08589269195189639, 'to': 0.08487511563367253, 'a': 0.07715078630897318, 'he': 0.06877890841813136, 'of': 0.057585568917668827, 'was': 0.053422756706753005, 'his': 0.04310823311748381, 'in': 0.04278445883441258, 'harry': 0.041766882516188715, 'it': 0.03432007400555041, 'had': 0.03214616096207216, 'said': 0.030527289546716005, 'you': 0.028769657724329326, 'at': 0.028769657724329326, 'they': 0.02673450508788159, 'on': 0.025948196114708603, 'that': 0.024421831637372802, 'as': 0.024144310823311747, 'i': 0.023080481036077707})\n"
     ]
    }
   ],
   "source": [
    "# Distribution for the book\n",
    "from collections import Counter\n",
    "import re\n",
    "from collections import defaultdict\n",
    "\n",
    "\n",
    "with open(\"J. K. Rowling - Harry Potter 1 - Sorcerer's Stone.txt\", 'r', encoding='utf-8') as file:\n",
    "    text = file.read()\n",
    "\n",
    "# Convert every word to lower case and also remove puncuation\n",
    "text = re.sub(r'[^\\w\\s]-', '', text.lower())\n",
    "\n",
    "# Get a list of the words\n",
    "words = text.split()\n",
    "\n",
    "# Count of words in the book\n",
    "len_words = len(words)\n",
    "\n",
    "# Count the frequency of each word\n",
    "word_freq = Counter(words)\n",
    "\n",
    "# 20 most common words\n",
    "most_common_words = word_freq.most_common(20)\n",
    "\n",
    "# Find the count of the top 20 words used\n",
    "total_top_word_freq = 0\n",
    "for tup in most_common_words:\n",
    "    total_top_word_freq += tup[1]\n",
    "\n",
    "# Get the percent of time each word is used in the top 20\n",
    "word_percent_dict = defaultdict(lambda: float)\n",
    "for word, freq in most_common_words:\n",
    "    word_percent_dict[word] = (freq/total_top_word_freq)\n",
    "\n",
    "print(f\"The length of Harry Potter and the Sorcer's Stone: {len_words}\")\n",
    "print(f'The number of times the top 20 most common words are used: {total_top_word_freq}')\n",
    "\n",
    "print(\"Top 20 most common words in Harry Potter and the Sorcerer's Stone and the percent of time used:\")\n",
    "print(word_percent_dict)"
   ]
  },
  {
   "cell_type": "code",
   "execution_count": 2,
   "metadata": {},
   "outputs": [
    {
     "name": "stdout",
     "output_type": "stream",
     "text": [
      "The Zipf Distrubtion: [0.1367020048361731, 0.1076164718923065, 0.08873638910418255, 0.07549215192445381, 0.06568797634984942, 0.05813763424067133, 0.05214406370039594, 0.04727078671905052, 0.04323054853793509, 0.03982656833809768, 0.036919519554294934, 0.03440798761182589, 0.032216396044193664, 0.030287270532565302, 0.028576125304736754, 0.027047990261702702, 0.025674995832174648, 0.02443465786926766, 0.023308636769301408, 0.02228182457682117]\n"
     ]
    }
   ],
   "source": [
    "# Get the Zipf Distribution\n",
    "denom = 0\n",
    "for i in range(1, 21):\n",
    "    denom += 1/(i+2.7)\n",
    "\n",
    "\n",
    "zipf_list = list()\n",
    "for k in range(1, 21):\n",
    "    zipf_val = (1/(k+2.7))/(denom)\n",
    "    zipf_list.append(zipf_val)\n",
    "\n",
    "print(f'The Zipf Distrubtion: {zipf_list}')"
   ]
  },
  {
   "cell_type": "code",
   "execution_count": 3,
   "metadata": {},
   "outputs": [
    {
     "name": "stdout",
     "output_type": "stream",
     "text": [
      "The test statistic is 259.05401881632434 with a p-value of 4.516633532582998e-44\n"
     ]
    }
   ],
   "source": [
    "from scipy import stats\n",
    "\n",
    "observed = [x*total_top_word_freq for x in list(word_percent_dict.values())]\n",
    "expected = [x*total_top_word_freq for x in zipf_list]\n",
    "\n",
    "test_result = stats.chisquare(observed, expected)\n",
    "\n",
    "print(f'The test statistic is {test_result.statistic} with a p-value of {test_result.pvalue}')"
   ]
  }
 ],
 "metadata": {
  "kernelspec": {
   "display_name": "ds",
   "language": "python",
   "name": "python3"
  },
  "language_info": {
   "codemirror_mode": {
    "name": "ipython",
    "version": 3
   },
   "file_extension": ".py",
   "mimetype": "text/x-python",
   "name": "python",
   "nbconvert_exporter": "python",
   "pygments_lexer": "ipython3",
   "version": "3.11.7"
  }
 },
 "nbformat": 4,
 "nbformat_minor": 2
}
